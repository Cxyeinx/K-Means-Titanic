{
 "cells": [
  {
   "cell_type": "code",
   "execution_count": null,
   "id": "broken-gates",
   "metadata": {},
   "outputs": [],
   "source": [
    "import numpy as np\n",
    "import matplotlib.pyplot as plt\n",
    "from matplotlib import style\n",
    "import pandas as pd\n",
    "from sklearn.cluster import KMeans\n",
    "from sklearn import preprocessing\n",
    "style.use(\"ggplot\")"
   ]
  },
  {
   "cell_type": "code",
   "execution_count": null,
   "id": "manual-output",
   "metadata": {},
   "outputs": [],
   "source": [
    "df = pd.read_excel('titanic.xls')"
   ]
  },
  {
   "cell_type": "code",
   "execution_count": null,
   "id": "offensive-patch",
   "metadata": {},
   "outputs": [],
   "source": [
    "df"
   ]
  },
  {
   "cell_type": "code",
   "execution_count": null,
   "id": "incoming-desperate",
   "metadata": {},
   "outputs": [],
   "source": [
    "df.drop(columns=[\"name\", \"cabin\", \"boat\", \"home.dest\", \"body\", \"ticket\"], inplace=True)"
   ]
  },
  {
   "cell_type": "code",
   "execution_count": null,
   "id": "industrial-andorra",
   "metadata": {},
   "outputs": [],
   "source": [
    "df = df.dropna()"
   ]
  },
  {
   "cell_type": "code",
   "execution_count": null,
   "id": "million-graphic",
   "metadata": {},
   "outputs": [],
   "source": [
    "embarked = set(df[\"embarked\"])\n",
    "embarked = {data:index for index, data in enumerate(embarked)}"
   ]
  },
  {
   "cell_type": "code",
   "execution_count": null,
   "id": "confidential-multimedia",
   "metadata": {},
   "outputs": [],
   "source": [
    "for index, data in zip(df.index, df[\"embarked\"]):\n",
    "    df.at[index, \"embarked\"] = embarked[data]"
   ]
  },
  {
   "cell_type": "code",
   "execution_count": null,
   "id": "introductory-sussex",
   "metadata": {},
   "outputs": [],
   "source": [
    "gender = {\"male\": 1, \"female\":0}"
   ]
  },
  {
   "cell_type": "code",
   "execution_count": null,
   "id": "stable-blast",
   "metadata": {},
   "outputs": [],
   "source": [
    "for index, data in zip(df.index, df[\"sex\"]):\n",
    "    df.at[index, \"sex\"] = gender[data]"
   ]
  },
  {
   "cell_type": "code",
   "execution_count": null,
   "id": "worldwide-geneva",
   "metadata": {},
   "outputs": [],
   "source": [
    "df"
   ]
  },
  {
   "cell_type": "code",
   "execution_count": null,
   "id": "outstanding-residence",
   "metadata": {},
   "outputs": [],
   "source": [
    "x = df.drop(columns=[\"survived\"])\n",
    "x = np.array(x)\n",
    "x = preprocessing.scale(x)"
   ]
  },
  {
   "cell_type": "code",
   "execution_count": null,
   "id": "automated-messenger",
   "metadata": {},
   "outputs": [],
   "source": [
    "y = np.array(df[\"survived\"])"
   ]
  },
  {
   "cell_type": "code",
   "execution_count": null,
   "id": "adequate-proposition",
   "metadata": {},
   "outputs": [],
   "source": [
    "clf = KMeans()\n",
    "clf.fit(x)"
   ]
  },
  {
   "cell_type": "code",
   "execution_count": null,
   "id": "plain-peter",
   "metadata": {},
   "outputs": [],
   "source": [
    "correct = 0\n",
    "\n",
    "for i in range(len(x)):\n",
    "    predict_me = np.array(x[i].astype(float))\n",
    "    predict_me = predict_me.reshape(-1, len(predict_me))\n",
    "    prediction = clf.predict(predict_me)\n",
    "    if prediction[0] == y[i]:\n",
    "        correct += 1\n",
    "\n",
    "print(correct/len(x))"
   ]
  },
  {
   "cell_type": "code",
   "execution_count": null,
   "id": "broad-wisdom",
   "metadata": {},
   "outputs": [],
   "source": [
    "pred = clf.predict(x)\n",
    "print(pred)"
   ]
  },
  {
   "cell_type": "code",
   "execution_count": null,
   "id": "bacterial-greek",
   "metadata": {},
   "outputs": [],
   "source": []
  }
 ],
 "metadata": {
  "kernelspec": {
   "display_name": "Python 3",
   "language": "python",
   "name": "python3"
  },
  "language_info": {
   "codemirror_mode": {
    "name": "ipython",
    "version": 3
   },
   "file_extension": ".py",
   "mimetype": "text/x-python",
   "name": "python",
   "nbconvert_exporter": "python",
   "pygments_lexer": "ipython3",
   "version": "3.8.5"
  }
 },
 "nbformat": 4,
 "nbformat_minor": 5
}
